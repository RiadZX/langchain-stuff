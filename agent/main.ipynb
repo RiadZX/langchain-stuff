{
 "cells": [
  {
   "cell_type": "code",
   "execution_count": 3,
   "id": "e3d0b285",
   "metadata": {},
   "outputs": [
    {
     "data": {
      "text/plain": [
       "True"
      ]
     },
     "execution_count": 3,
     "metadata": {},
     "output_type": "execute_result"
    }
   ],
   "source": [
    "import os\n",
    "import getpass\n",
    "# load the environment variables from .env file\n",
    "from dotenv import load_dotenv\n",
    "load_dotenv()"
   ]
  },
  {
   "cell_type": "code",
   "execution_count": 2,
   "id": "95da9cb8",
   "metadata": {},
   "outputs": [
    {
     "name": "stdout",
     "output_type": "stream",
     "text": [
      "[{'title': 'Friday, April 25, 2025. San Francisco, CA - Weather Forecast', 'url': 'https://weathershogun.com/weather/usa/ca/san-francisco/480/april/2025-04-25', 'content': 'San Francisco, California Weather: Friday, April 25, 2025. Cloudy weather, overcast skies with clouds. Day 61°. Night 48°. Precipitation 6 %.', 'score': 0.9459663}, {'title': 'Weather in San Francisco', 'url': 'https://www.weatherapi.com/', 'content': \"{'location': {'name': 'San Francisco', 'region': 'California', 'country': 'United States of America', 'lat': 37.775, 'lon': -122.4183, 'tz_id': 'America/Los_Angeles', 'localtime_epoch': 1745615351, 'localtime': '2025-04-25 14:09'}, 'current': {'last_updated_epoch': 1745614800, 'last_updated': '2025-04-25 14:00', 'temp_c': 11.1, 'temp_f': 52.0, 'is_day': 1, 'condition': {'text': 'Light rain', 'icon': '//cdn.weatherapi.com/weather/64x64/day/296.png', 'code': 1183}, 'wind_mph': 11.0, 'wind_kph': 17.6, 'wind_degree': 240, 'wind_dir': 'WSW', 'pressure_mb': 1016.0, 'pressure_in': 29.99, 'precip_mm': 0.0, 'precip_in': 0.0, 'humidity': 83, 'cloud': 100, 'feelslike_c': 9.0, 'feelslike_f': 48.2, 'windchill_c': 8.2, 'windchill_f': 46.7, 'heatindex_c': 10.4, 'heatindex_f': 50.7, 'dewpoint_c': 8.1, 'dewpoint_f': 46.6, 'vis_km': 16.0, 'vis_miles': 9.0, 'uv': 6.0, 'gust_mph': 13.2, 'gust_kph': 21.2}}\", 'score': 0.8830111}]\n"
     ]
    }
   ],
   "source": [
    "from langchain_community.tools.tavily_search import TavilySearchResults\n",
    "\n",
    "search = TavilySearchResults(max_results=2)\n",
    "search_results = search.invoke(\"what is the weather in SF\")\n",
    "print(search_results)\n",
    "# If we want, we can create other tools.\n",
    "# Once we have all the tools we want, we can put them in a list that we will reference later.\n",
    "tools = [search]"
   ]
  },
  {
   "cell_type": "code",
   "execution_count": 5,
   "id": "2f801a44",
   "metadata": {},
   "outputs": [],
   "source": [
    "if not os.environ.get(\"GOOGLE_API_KEY\"):\n",
    "  os.environ[\"GOOGLE_API_KEY\"] = getpass.getpass(\"Enter API key for Google Gemini: \")\n",
    "\n",
    "from langchain.chat_models import init_chat_model\n",
    "\n",
    "model = init_chat_model(\"gemini-2.0-flash\", model_provider=\"google_genai\")"
   ]
  },
  {
   "cell_type": "code",
   "execution_count": 8,
   "id": "de3b31eb",
   "metadata": {},
   "outputs": [
    {
     "data": {
      "text/plain": [
       "'Hi there! How can I help you today?'"
      ]
     },
     "execution_count": 8,
     "metadata": {},
     "output_type": "execute_result"
    }
   ],
   "source": [
    "from langchain_core.messages import HumanMessage\n",
    "\n",
    "response = model.invoke([HumanMessage(content=\"hi!\")])\n",
    "response.content"
   ]
  },
  {
   "cell_type": "code",
   "execution_count": 9,
   "id": "f133a169",
   "metadata": {},
   "outputs": [],
   "source": [
    "model_with_tools = model.bind_tools(tools)"
   ]
  },
  {
   "cell_type": "code",
   "execution_count": 10,
   "id": "0f31d28b",
   "metadata": {},
   "outputs": [
    {
     "name": "stdout",
     "output_type": "stream",
     "text": [
      "ContentString: Hi there! How can I help you today?\n",
      "ToolCalls: []\n"
     ]
    }
   ],
   "source": [
    "response = model_with_tools.invoke([HumanMessage(content=\"Hi!\")])\n",
    "\n",
    "print(f\"ContentString: {response.content}\")\n",
    "print(f\"ToolCalls: {response.tool_calls}\")"
   ]
  },
  {
   "cell_type": "code",
   "execution_count": 11,
   "id": "dfe13c30",
   "metadata": {},
   "outputs": [
    {
     "name": "stdout",
     "output_type": "stream",
     "text": [
      "ContentString: \n",
      "ToolCalls: [{'name': 'tavily_search_results_json', 'args': {'query': 'weather in San Francisco'}, 'id': '8d02c271-c99a-4692-abd5-3c20e790f733', 'type': 'tool_call'}]\n"
     ]
    }
   ],
   "source": [
    "response = model_with_tools.invoke([HumanMessage(content=\"What's the weather in SF?\")])\n",
    "\n",
    "print(f\"ContentString: {response.content}\")\n",
    "print(f\"ToolCalls: {response.tool_calls}\")"
   ]
  },
  {
   "cell_type": "markdown",
   "id": "99387719",
   "metadata": {},
   "source": [
    "### this is where the search agent will be created."
   ]
  },
  {
   "cell_type": "code",
   "execution_count": 12,
   "id": "d1ee99d5",
   "metadata": {},
   "outputs": [],
   "source": [
    "from langgraph.prebuilt import create_react_agent\n",
    "\n",
    "agent_executor = create_react_agent(model, tools)"
   ]
  },
  {
   "cell_type": "code",
   "execution_count": 13,
   "id": "0114088f",
   "metadata": {},
   "outputs": [
    {
     "data": {
      "text/plain": [
       "[HumanMessage(content='hi!', additional_kwargs={}, response_metadata={}, id='ab94ae28-7ce9-4096-be98-ea0791865bcf'),\n",
       " AIMessage(content='Hi there! How can I help you today?', additional_kwargs={}, response_metadata={'prompt_feedback': {'block_reason': 0, 'safety_ratings': []}, 'finish_reason': 'STOP', 'model_name': 'gemini-2.0-flash', 'safety_ratings': []}, id='run-761176c4-b35c-4722-b4a3-f9a150fbc8dd-0', usage_metadata={'input_tokens': 49, 'output_tokens': 11, 'total_tokens': 60, 'input_token_details': {'cache_read': 0}})]"
      ]
     },
     "execution_count": 13,
     "metadata": {},
     "output_type": "execute_result"
    }
   ],
   "source": [
    "response = agent_executor.invoke({\"messages\": [HumanMessage(content=\"hi!\")]})\n",
    "\n",
    "response[\"messages\"]"
   ]
  },
  {
   "cell_type": "code",
   "execution_count": 14,
   "id": "b4096744",
   "metadata": {},
   "outputs": [
    {
     "data": {
      "text/plain": [
       "[HumanMessage(content='whats the weather in sf?', additional_kwargs={}, response_metadata={}, id='ff1cd21d-7892-4a00-a1df-66ea45ef6132'),\n",
       " AIMessage(content='', additional_kwargs={'function_call': {'name': 'tavily_search_results_json', 'arguments': '{\"query\": \"weather in San Francisco\"}'}}, response_metadata={'prompt_feedback': {'block_reason': 0, 'safety_ratings': []}, 'finish_reason': 'STOP', 'model_name': 'gemini-2.0-flash', 'safety_ratings': []}, id='run-65809f8c-59ca-4d1a-a328-197860d53dfe-0', tool_calls=[{'name': 'tavily_search_results_json', 'args': {'query': 'weather in San Francisco'}, 'id': '11f2c7be-b495-40eb-bc24-686afe3da612', 'type': 'tool_call'}], usage_metadata={'input_tokens': 53, 'output_tokens': 13, 'total_tokens': 66, 'input_token_details': {'cache_read': 0}}),\n",
       " ToolMessage(content='[{\"title\": \"Weather in San Francisco\", \"url\": \"https://www.weatherapi.com/\", \"content\": \"{\\'location\\': {\\'name\\': \\'San Francisco\\', \\'region\\': \\'California\\', \\'country\\': \\'United States of America\\', \\'lat\\': 37.775, \\'lon\\': -122.4183, \\'tz_id\\': \\'America/Los_Angeles\\', \\'localtime_epoch\\': 1745613476, \\'localtime\\': \\'2025-04-25 13:37\\'}, \\'current\\': {\\'last_updated_epoch\\': 1745613000, \\'last_updated\\': \\'2025-04-25 13:30\\', \\'temp_c\\': 11.1, \\'temp_f\\': 52.0, \\'is_day\\': 1, \\'condition\\': {\\'text\\': \\'Light rain\\', \\'icon\\': \\'//cdn.weatherapi.com/weather/64x64/day/296.png\\', \\'code\\': 1183}, \\'wind_mph\\': 10.1, \\'wind_kph\\': 16.2, \\'wind_degree\\': 238, \\'wind_dir\\': \\'WSW\\', \\'pressure_mb\\': 1016.0, \\'pressure_in\\': 29.99, \\'precip_mm\\': 0.0, \\'precip_in\\': 0.0, \\'humidity\\': 83, \\'cloud\\': 100, \\'feelslike_c\\': 9.1, \\'feelslike_f\\': 48.5, \\'windchill_c\\': 8.1, \\'windchill_f\\': 46.6, \\'heatindex_c\\': 10.4, \\'heatindex_f\\': 50.7, \\'dewpoint_c\\': 8.1, \\'dewpoint_f\\': 46.6, \\'vis_km\\': 11.0, \\'vis_miles\\': 6.0, \\'uv\\': 5.4, \\'gust_mph\\': 12.3, \\'gust_kph\\': 19.8}}\", \"score\": 0.9864}, {\"title\": \"Friday, April 25, 2025. San Francisco, CA - Weather Forecast\", \"url\": \"https://weathershogun.com/weather/usa/ca/san-francisco/480/april/2025-04-25\", \"content\": \"San Francisco, California Weather: Friday, April 25, 2025. Cloudy weather, overcast skies with clouds. Day 61°. Night 48°. Precipitation 6 %.\", \"score\": 0.96610814}]', name='tavily_search_results_json', id='25b3b4c1-9a44-49cf-a4b7-3d7536665181', tool_call_id='11f2c7be-b495-40eb-bc24-686afe3da612', artifact={'query': 'weather in San Francisco', 'follow_up_questions': None, 'answer': None, 'images': [], 'results': [{'title': 'Weather in San Francisco', 'url': 'https://www.weatherapi.com/', 'content': \"{'location': {'name': 'San Francisco', 'region': 'California', 'country': 'United States of America', 'lat': 37.775, 'lon': -122.4183, 'tz_id': 'America/Los_Angeles', 'localtime_epoch': 1745613476, 'localtime': '2025-04-25 13:37'}, 'current': {'last_updated_epoch': 1745613000, 'last_updated': '2025-04-25 13:30', 'temp_c': 11.1, 'temp_f': 52.0, 'is_day': 1, 'condition': {'text': 'Light rain', 'icon': '//cdn.weatherapi.com/weather/64x64/day/296.png', 'code': 1183}, 'wind_mph': 10.1, 'wind_kph': 16.2, 'wind_degree': 238, 'wind_dir': 'WSW', 'pressure_mb': 1016.0, 'pressure_in': 29.99, 'precip_mm': 0.0, 'precip_in': 0.0, 'humidity': 83, 'cloud': 100, 'feelslike_c': 9.1, 'feelslike_f': 48.5, 'windchill_c': 8.1, 'windchill_f': 46.6, 'heatindex_c': 10.4, 'heatindex_f': 50.7, 'dewpoint_c': 8.1, 'dewpoint_f': 46.6, 'vis_km': 11.0, 'vis_miles': 6.0, 'uv': 5.4, 'gust_mph': 12.3, 'gust_kph': 19.8}}\", 'score': 0.9864, 'raw_content': None}, {'url': 'https://weathershogun.com/weather/usa/ca/san-francisco/480/april/2025-04-25', 'title': 'Friday, April 25, 2025. San Francisco, CA - Weather Forecast', 'content': 'San Francisco, California Weather: Friday, April 25, 2025. Cloudy weather, overcast skies with clouds. Day 61°. Night 48°. Precipitation 6 %.', 'score': 0.96610814, 'raw_content': None}], 'response_time': 2.16}),\n",
       " AIMessage(content='The weather in San Francisco on Friday, April 25, 2025 is cloudy with light rain. The temperature is 52°F (11.1°C), but it feels like 48.5°F (9.1°C). The wind is from the WSW at 10.1 mph. There is 0.0 precipitation.', additional_kwargs={}, response_metadata={'prompt_feedback': {'block_reason': 0, 'safety_ratings': []}, 'finish_reason': 'STOP', 'model_name': 'gemini-2.0-flash', 'safety_ratings': []}, id='run-71537099-3ffe-4436-a1a5-39a18da672ab-0', usage_metadata={'input_tokens': 662, 'output_tokens': 81, 'total_tokens': 743, 'input_token_details': {'cache_read': 0}})]"
      ]
     },
     "execution_count": 14,
     "metadata": {},
     "output_type": "execute_result"
    }
   ],
   "source": [
    "response = agent_executor.invoke(\n",
    "    {\"messages\": [HumanMessage(content=\"whats the weather in sf?\")]}\n",
    ")\n",
    "response[\"messages\"]"
   ]
  },
  {
   "cell_type": "code",
   "execution_count": 15,
   "id": "f5e41755",
   "metadata": {},
   "outputs": [
    {
     "name": "stdout",
     "output_type": "stream",
     "text": [
      "================================\u001b[1m Human Message \u001b[0m=================================\n",
      "\n",
      "whats the weather in sf?\n",
      "==================================\u001b[1m Ai Message \u001b[0m==================================\n",
      "Tool Calls:\n",
      "  tavily_search_results_json (d66c0569-2223-4e8c-a3f8-c897b36bd9b0)\n",
      " Call ID: d66c0569-2223-4e8c-a3f8-c897b36bd9b0\n",
      "  Args:\n",
      "    query: weather in San Francisco\n",
      "=================================\u001b[1m Tool Message \u001b[0m=================================\n",
      "Name: tavily_search_results_json\n",
      "\n",
      "[{\"title\": \"Weather in San Francisco\", \"url\": \"https://www.weatherapi.com/\", \"content\": \"{'location': {'name': 'San Francisco', 'region': 'California', 'country': 'United States of America', 'lat': 37.775, 'lon': -122.4183, 'tz_id': 'America/Los_Angeles', 'localtime_epoch': 1745613476, 'localtime': '2025-04-25 13:37'}, 'current': {'last_updated_epoch': 1745613000, 'last_updated': '2025-04-25 13:30', 'temp_c': 11.1, 'temp_f': 52.0, 'is_day': 1, 'condition': {'text': 'Light rain', 'icon': '//cdn.weatherapi.com/weather/64x64/day/296.png', 'code': 1183}, 'wind_mph': 10.1, 'wind_kph': 16.2, 'wind_degree': 238, 'wind_dir': 'WSW', 'pressure_mb': 1016.0, 'pressure_in': 29.99, 'precip_mm': 0.0, 'precip_in': 0.0, 'humidity': 83, 'cloud': 100, 'feelslike_c': 9.1, 'feelslike_f': 48.5, 'windchill_c': 8.1, 'windchill_f': 46.6, 'heatindex_c': 10.4, 'heatindex_f': 50.7, 'dewpoint_c': 8.1, 'dewpoint_f': 46.6, 'vis_km': 11.0, 'vis_miles': 6.0, 'uv': 5.4, 'gust_mph': 12.3, 'gust_kph': 19.8}}\", \"score\": 0.9864}, {\"title\": \"Friday, April 25, 2025. San Francisco, CA - Weather Forecast\", \"url\": \"https://weathershogun.com/weather/usa/ca/san-francisco/480/april/2025-04-25\", \"content\": \"San Francisco, California Weather: Friday, April 25, 2025. Cloudy weather, overcast skies with clouds. Day 61°. Night 48°. Precipitation 6 %.\", \"score\": 0.96610814}]\n",
      "==================================\u001b[1m Ai Message \u001b[0m==================================\n",
      "\n",
      "The weather in San Francisco on Friday, April 25, 2025 is cloudy with light rain. The temperature is 52°F (11.1°C). The wind is from the WSW at 10.1 mph. The humidity is 83%.\n"
     ]
    }
   ],
   "source": [
    "for step in agent_executor.stream(\n",
    "    {\"messages\": [HumanMessage(content=\"whats the weather in sf?\")]},\n",
    "    stream_mode=\"values\",\n",
    "):\n",
    "    step[\"messages\"][-1].pretty_print()"
   ]
  },
  {
   "cell_type": "code",
   "execution_count": null,
   "id": "40350c35",
   "metadata": {},
   "outputs": [
    {
     "name": "stdout",
     "output_type": "stream",
     "text": [
      "The weather in San| Francisco on Friday, April 25, 2025 is light rain. The| temperature is 11.1 degrees Celsius (52.0 degrees Fahrenheit),| but it feels like 9.1 degrees Celsius (48.5 degrees Fahrenheit). The wind is from the WSW at 16.2 k|ph (10.1 mph). The humidity is 83%.|"
     ]
    }
   ],
   "source": [
    "for step, metadata in agent_executor.stream(\n",
    "    {\"messages\": [HumanMessage(content=\"whats the weather in sf?\")]},\n",
    "    stream_mode=\"messages\",\n",
    "):\n",
    "    if metadata[\"langgraph_node\"] == \"agent\" and (text := step.text()):\n",
    "        print(text, end=\"\")"
   ]
  },
  {
   "cell_type": "code",
   "execution_count": null,
   "id": "e2cb0666",
   "metadata": {},
   "outputs": [],
   "source": []
  }
 ],
 "metadata": {
  "kernelspec": {
   "display_name": ".venv",
   "language": "python",
   "name": "python3"
  },
  "language_info": {
   "codemirror_mode": {
    "name": "ipython",
    "version": 3
   },
   "file_extension": ".py",
   "mimetype": "text/x-python",
   "name": "python",
   "nbconvert_exporter": "python",
   "pygments_lexer": "ipython3",
   "version": "3.12.6"
  }
 },
 "nbformat": 4,
 "nbformat_minor": 5
}
